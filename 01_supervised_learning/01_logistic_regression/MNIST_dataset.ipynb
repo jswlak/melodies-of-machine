{
  "nbformat": 4,
  "nbformat_minor": 0,
  "metadata": {
    "colab": {
      "provenance": []
    },
    "kernelspec": {
      "name": "python3",
      "display_name": "Python 3"
    },
    "language_info": {
      "name": "python"
    }
  },
  "cells": [
    {
      "cell_type": "markdown",
      "source": [
        "# 🧠 MNIST Digit Classification — Logistic Regression (NumPy)\n",
        "\n",
        "A simple machine learning project that implements **logistic regression from scratch** using **NumPy** to classify handwritten digits (0–9) from the **MNIST dataset**.\n",
        "\n",
        "---\n",
        "\n",
        "## 📌 Project Overview\n",
        "\n",
        "This project demonstrates:\n",
        "- Manual implementation of multi-class logistic regression\n",
        "- Using **softmax activation** and **cross-entropy loss**\n",
        "- Training with **mini-batch gradient descent**\n",
        "- Evaluating performance on real-world digit data\n",
        "\n",
        "---\n",
        "\n",
        "## 🗂 Dataset\n",
        "\n",
        "**MNIST** is a benchmark dataset of handwritten digits:\n",
        "- 60,000 training images\n",
        "- 10,000 test images\n",
        "- Each image: 28×28 pixels (flattened to 784 features)\n",
        "\n",
        "We fetch it via `sklearn.datasets.fetch_openml`.\n",
        "\n",
        "---\n",
        "\n",
        "\n",
        "## 🔧 Features\n",
        "\n",
        "- 💾 Load and preprocess real MNIST data\n",
        "- 🧮 Manual implementation of softmax, loss, and gradient descent\n",
        "- 🔁 Training loop with mini-batch updates\n",
        "- 📈 Visualization of training loss\n",
        "- ✅ Model accuracy evaluation\n",
        "- 🖼 Sample digit predictions display\n",
        "\n",
        "---"
      ],
      "metadata": {
        "id": "1cCoslaF6mzG"
      }
    },
    {
      "cell_type": "markdown",
      "source": [
        "# **Pipeline**\n",
        "*   Load MNIST (28×28 grayscale images)\n",
        "\n",
        "*   Flatten each image to a 784-dimensional vector\n",
        "\n",
        "*   Implement:\n",
        "\n",
        "        *     Softmax function\n",
        "        *     Cross-entropy loss\n",
        "        *     Gradient descent\n",
        "\n",
        "\n",
        "\n",
        "*   Train the model on X_train\n",
        "*   Predict on X_test and compute accuracy"
      ],
      "metadata": {
        "id": "59d4O7Wb3bFq"
      }
    },
    {
      "cell_type": "markdown",
      "source": [
        "# **Import Library**"
      ],
      "metadata": {
        "id": "71kDTBId7FRL"
      }
    },
    {
      "cell_type": "code",
      "execution_count": 1,
      "metadata": {
        "id": "KgGo-CUP3Qed"
      },
      "outputs": [],
      "source": [
        "import numpy as np\n",
        "import matplotlib.pyplot as plt\n",
        "from sklearn.datasets import fetch_openml\n",
        "from sklearn.model_selection import train_test_split\n",
        "from sklearn.preprocessing import OneHotEncoder, StandardScaler"
      ]
    },
    {
      "cell_type": "markdown",
      "source": [
        "# **Load and Prepare Data**"
      ],
      "metadata": {
        "id": "CAMZ1BwT7Io0"
      }
    },
    {
      "cell_type": "code",
      "source": [
        "# Load MNIST (70000 samples)\n",
        "mnist = fetch_openml('mnist_784', version=1, as_frame=False)\n",
        "X = mnist.data  # shape: (70000, 784)\n",
        "y = mnist.target.astype(int)  # string → int\n",
        "\n",
        "# Normalize\n",
        "X = X / 255.0\n",
        "\n",
        "# One-hot encode labels\n",
        "encoder = OneHotEncoder(sparse_output=False)\n",
        "y_onehot = encoder.fit_transform(y.reshape(-1, 1))  # shape: (70000, 10)\n",
        "\n",
        "# Train-test split\n",
        "X_train, X_test, y_train, y_test = train_test_split(X, y_onehot, test_size=0.2, random_state=42)"
      ],
      "metadata": {
        "id": "0i0MbdoO4f16"
      },
      "execution_count": 3,
      "outputs": []
    },
    {
      "cell_type": "markdown",
      "source": [
        "# **Softmax**"
      ],
      "metadata": {
        "id": "iBbf6gV67dFD"
      }
    },
    {
      "cell_type": "code",
      "source": [
        "def softmax(z):\n",
        "    exp_z = np.exp(z - np.max(z, axis=1, keepdims=True))  # for numerical stability\n",
        "    return exp_z / np.sum(exp_z, axis=1, keepdims=True)"
      ],
      "metadata": {
        "id": "NXnVXDKH4tOI"
      },
      "execution_count": 4,
      "outputs": []
    },
    {
      "cell_type": "markdown",
      "source": [
        "# **Cross-Entropy Loss**"
      ],
      "metadata": {
        "id": "C0vlXI9d7gz4"
      }
    },
    {
      "cell_type": "code",
      "source": [
        "def compute_loss(y_true, y_pred):\n",
        "    eps = 1e-9\n",
        "    return -np.mean(np.sum(y_true * np.log(y_pred + eps), axis=1))"
      ],
      "metadata": {
        "id": "xd5dgBRB4w6P"
      },
      "execution_count": 5,
      "outputs": []
    },
    {
      "cell_type": "markdown",
      "source": [
        "# **Initialize Weights**"
      ],
      "metadata": {
        "id": "LXLIXVDe7tXc"
      }
    },
    {
      "cell_type": "code",
      "source": [
        "def initialize_weights(n_features, n_classes):\n",
        "    W = np.zeros((n_features, n_classes))\n",
        "    b = np.zeros((1, n_classes))\n",
        "    return W, b"
      ],
      "metadata": {
        "id": "Vbd_Vz5240H2"
      },
      "execution_count": 6,
      "outputs": []
    },
    {
      "cell_type": "markdown",
      "source": [
        "# **Train Using Gradient Descent**"
      ],
      "metadata": {
        "id": "eMJXPtOK7yPS"
      }
    },
    {
      "cell_type": "code",
      "source": [
        "def train(X, y, lr=0.1, epochs=1000, batch_size=64):\n",
        "    n_samples, n_features = X.shape\n",
        "    n_classes = y.shape[1]\n",
        "    W, b = initialize_weights(n_features, n_classes)\n",
        "    losses = []\n",
        "\n",
        "    for epoch in range(epochs):\n",
        "        # Mini-batch training\n",
        "        indices = np.random.permutation(n_samples)\n",
        "        X_shuffled = X[indices]\n",
        "        y_shuffled = y[indices]\n",
        "\n",
        "        for start in range(0, n_samples, batch_size):\n",
        "            end = start + batch_size\n",
        "            X_batch = X_shuffled[start:end]\n",
        "            y_batch = y_shuffled[start:end]\n",
        "\n",
        "            logits = np.dot(X_batch, W) + b\n",
        "            y_pred = softmax(logits)\n",
        "\n",
        "            loss = compute_loss(y_batch, y_pred)\n",
        "\n",
        "            # Gradients\n",
        "            error = y_pred - y_batch\n",
        "            dW = np.dot(X_batch.T, error) / batch_size\n",
        "            db = np.sum(error, axis=0, keepdims=True) / batch_size\n",
        "\n",
        "            # Update\n",
        "            W -= lr * dW\n",
        "            b -= lr * db\n",
        "\n",
        "        if epoch % 10 == 0:\n",
        "            print(f\"Epoch {epoch}, Loss: {loss:.4f}\")\n",
        "            losses.append(loss)\n",
        "\n",
        "    return W, b, losses"
      ],
      "metadata": {
        "id": "HkIdHunJ43Fu"
      },
      "execution_count": 8,
      "outputs": []
    },
    {
      "cell_type": "markdown",
      "source": [
        "# **Predict and Evaluate**"
      ],
      "metadata": {
        "id": "U8MAWnJw70yN"
      }
    },
    {
      "cell_type": "code",
      "source": [
        "def predict(X, W, b):\n",
        "    logits = np.dot(X, W) + b\n",
        "    y_pred = softmax(logits)\n",
        "    return np.argmax(y_pred, axis=1)\n",
        "\n",
        "# Train\n",
        "W, b, losses = train(X_train, y_train, lr=0.1, epochs=100)\n",
        "\n",
        "# Predict\n",
        "y_pred_test = predict(X_test, W, b)\n",
        "y_true_test = np.argmax(y_test, axis=1)\n",
        "\n",
        "# Accuracy\n",
        "acc = np.mean(y_pred_test == y_true_test)\n",
        "print(f\"Test Accuracy: {acc * 100:.2f}%\")"
      ],
      "metadata": {
        "colab": {
          "base_uri": "https://localhost:8080/"
        },
        "id": "vzSf_HwF45pF",
        "outputId": "1fe761d3-fea9-4511-9dae-3c40e7cb0ecc"
      },
      "execution_count": 9,
      "outputs": [
        {
          "output_type": "stream",
          "name": "stdout",
          "text": [
            "Epoch 0, Loss: 0.2797\n",
            "Epoch 10, Loss: 0.2409\n",
            "Epoch 20, Loss: 0.4032\n",
            "Epoch 30, Loss: 0.3375\n",
            "Epoch 40, Loss: 0.1931\n",
            "Epoch 50, Loss: 0.3632\n",
            "Epoch 60, Loss: 0.2338\n",
            "Epoch 70, Loss: 0.3402\n",
            "Epoch 80, Loss: 0.1550\n",
            "Epoch 90, Loss: 0.1863\n",
            "Test Accuracy: 92.17%\n"
          ]
        }
      ]
    },
    {
      "cell_type": "markdown",
      "source": [
        "# **Visualize Loss Curve**"
      ],
      "metadata": {
        "id": "SwkKWyr575Lm"
      }
    },
    {
      "cell_type": "code",
      "source": [
        "plt.plot(range(0, 100, 10), losses)\n",
        "plt.title(\"Training Loss (MNIST)\")\n",
        "plt.xlabel(\"Epoch\")\n",
        "plt.ylabel(\"Loss\")\n",
        "plt.show()"
      ],
      "metadata": {
        "colab": {
          "base_uri": "https://localhost:8080/",
          "height": 472
        },
        "id": "2OQbvGfv8CKc",
        "outputId": "9af61369-f9c3-4e69-96a1-d2aeb0562457"
      },
      "execution_count": 11,
      "outputs": [
        {
          "output_type": "display_data",
          "data": {
            "text/plain": [
              "<Figure size 640x480 with 1 Axes>"
            ],
            "image/png": "[encoded data removed]"
          },
          "metadata": {}
        }
      ]
    },
    {
      "cell_type": "markdown",
      "source": [
        "# **Show Predictions**"
      ],
      "metadata": {
        "id": "vYZtBaZt8HfS"
      }
    },
    {
      "cell_type": "code",
      "source": [
        "# Visualize some test predictions\n",
        "fig, axes = plt.subplots(2, 5, figsize=(10, 5))\n",
        "for i, ax in enumerate(axes.flat):\n",
        "    img = X_test[i].reshape(28, 28)\n",
        "    pred = y_pred_test[i]\n",
        "    true = y_true_test[i]\n",
        "    ax.imshow(img, cmap='gray')\n",
        "    ax.set_title(f\"Pred: {pred}, True: {true}\")\n",
        "    ax.axis('off')\n",
        "plt.tight_layout()\n",
        "plt.show()"
      ],
      "metadata": {
        "colab": {
          "base_uri": "https://localhost:8080/",
          "height": 473
        },
        "id": "8SvPokZX5PLW",
        "outputId": "a8271d81-868a-43e0-fa5c-473cc9362a16"
      },
      "execution_count": 10,
      "outputs": [
        {
          "output_type": "display_data",
          "data": {
            "text/plain": [
              "<Figure size 1000x500 with 10 Axes>"
            ],
            "image/png": "[encoded data removed]"
          },
          "metadata": {}
        }
      ]
    }
  ]
}