{
 "cells": [
  {
   "cell_type": "code",
   "execution_count": 27,
   "metadata": {
    "id": "cBBHafnAB2cl"
   },
   "outputs": [],
   "source": [
    "import numpy as np\n"
   ]
  },
  {
   "cell_type": "markdown",
   "metadata": {
    "id": "UDu37mEXfB59"
   },
   "source": [
    "# **Creating Array**"
   ]
  },
  {
   "cell_type": "code",
   "execution_count": 28,
   "metadata": {
    "colab": {
     "base_uri": "https://localhost:8080/"
    },
    "id": "k68ibQ6TB5sb",
    "outputId": "c6a0b2ae-65a2-4b72-c593-7443394784ef"
   },
   "outputs": [
    {
     "name": "stdout",
     "output_type": "stream",
     "text": [
      "[2 3 7]\n"
     ]
    }
   ],
   "source": [
    "b = [2,3,7]        #1D array (Vector)\n",
    "a = np.array(b)\n",
    "\n",
    "print(a)"
   ]
  },
  {
   "cell_type": "code",
   "execution_count": 29,
   "metadata": {
    "colab": {
     "base_uri": "https://localhost:8080/"
    },
    "id": "TaNK7yTDCYJq",
    "outputId": "2e8270c2-7a33-4555-f477-eddcde920ae4"
   },
   "outputs": [
    {
     "name": "stdout",
     "output_type": "stream",
     "text": [
      "[[2 4]\n",
      " [9 5]\n",
      " [8 7]]\n"
     ]
    }
   ],
   "source": [
    "c = np.array([[2,4],[9,5], [8, 7]])      #2D array (Matrix)\n",
    "\n",
    "print(c)"
   ]
  },
  {
   "cell_type": "markdown",
   "metadata": {
    "id": "z5be6lM2gNRY"
   },
   "source": [
    "# **Array Initialization**"
   ]
  },
  {
   "cell_type": "code",
   "execution_count": 6,
   "metadata": {
    "colab": {
     "base_uri": "https://localhost:8080/"
    },
    "id": "bKnxEwfoCwyc",
    "outputId": "ceacd573-39be-45fd-d155-11275bfa43eb"
   },
   "outputs": [
    {
     "name": "stdout",
     "output_type": "stream",
     "text": [
      "[[0. 0. 0. 0. 0. 0. 0. 0. 0.]\n",
      " [0. 0. 0. 0. 0. 0. 0. 0. 0.]\n",
      " [0. 0. 0. 0. 0. 0. 0. 0. 0.]\n",
      " [0. 0. 0. 0. 0. 0. 0. 0. 0.]\n",
      " [0. 0. 0. 0. 0. 0. 0. 0. 0.]\n",
      " [0. 0. 0. 0. 0. 0. 0. 0. 0.]\n",
      " [0. 0. 0. 0. 0. 0. 0. 0. 0.]\n",
      " [0. 0. 0. 0. 0. 0. 0. 0. 0.]]\n"
     ]
    }
   ],
   "source": [
    "x = np.zeros((8,9))\n",
    "\n",
    "print(x)\n"
   ]
  },
  {
   "cell_type": "code",
   "execution_count": 7,
   "metadata": {
    "colab": {
     "base_uri": "https://localhost:8080/"
    },
    "id": "UNs8YyYBDMK2",
    "outputId": "04e254bc-e9c7-435e-b492-3824e636e7fc"
   },
   "outputs": [
    {
     "name": "stdout",
     "output_type": "stream",
     "text": [
      "[[1. 1. 1. 1. 1. 1.]\n",
      " [1. 1. 1. 1. 1. 1.]\n",
      " [1. 1. 1. 1. 1. 1.]\n",
      " [1. 1. 1. 1. 1. 1.]\n",
      " [1. 1. 1. 1. 1. 1.]]\n"
     ]
    }
   ],
   "source": [
    "y = np.ones((5,6))\n",
    "print(y)"
   ]
  },
  {
   "cell_type": "code",
   "execution_count": 8,
   "metadata": {
    "colab": {
     "base_uri": "https://localhost:8080/"
    },
    "id": "MZZ_X6qDDcjV",
    "outputId": "554008f7-d6d8-4fcc-caa7-255577351caf"
   },
   "outputs": [
    {
     "name": "stdout",
     "output_type": "stream",
     "text": [
      "[[1. 0. 0. 0. 0. 0. 0. 0. 0.]\n",
      " [0. 1. 0. 0. 0. 0. 0. 0. 0.]\n",
      " [0. 0. 1. 0. 0. 0. 0. 0. 0.]\n",
      " [0. 0. 0. 1. 0. 0. 0. 0. 0.]\n",
      " [0. 0. 0. 0. 1. 0. 0. 0. 0.]\n",
      " [0. 0. 0. 0. 0. 1. 0. 0. 0.]\n",
      " [0. 0. 0. 0. 0. 0. 1. 0. 0.]\n",
      " [0. 0. 0. 0. 0. 0. 0. 1. 0.]\n",
      " [0. 0. 0. 0. 0. 0. 0. 0. 1.]]\n"
     ]
    }
   ],
   "source": [
    "v = np.eye((9))\n",
    "print(v)"
   ]
  },
  {
   "cell_type": "code",
   "execution_count": 25,
   "metadata": {
    "colab": {
     "base_uri": "https://localhost:8080/"
    },
    "id": "tVJ16yrPD4ZA",
    "outputId": "be6378a0-5e96-4e9c-bcc3-4ae08e063e57"
   },
   "outputs": [
    {
     "name": "stdout",
     "output_type": "stream",
     "text": [
      "[[0.37454012 0.95071431 0.73199394 0.59865848 0.15601864]\n",
      " [0.15599452 0.05808361 0.86617615 0.60111501 0.70807258]\n",
      " [0.02058449 0.96990985 0.83244264 0.21233911 0.18182497]\n",
      " [0.18340451 0.30424224 0.52475643 0.43194502 0.29122914]]\n"
     ]
    }
   ],
   "source": [
    "np.random.seed(42)\n",
    "\n",
    "rand_mantrix = np.random.rand(4,5)\n",
    "print(rand_mantrix)\n",
    "\n",
    "\n",
    "\n"
   ]
  },
  {
   "cell_type": "code",
   "execution_count": null,
   "metadata": {
    "colab": {
     "base_uri": "https://localhost:8080/"
    },
    "id": "YtTTF-6aHvyK",
    "outputId": "0c07d8a9-837d-4d87-d406-23553006f30b"
   },
   "outputs": [
    {
     "name": "stdout",
     "output_type": "stream",
     "text": [
      "[[2 3 7 4 5]\n",
      " [2 0 3 0 2]\n",
      " [2 0 0 8 0]\n",
      " [4 0 6 0 1]]\n"
     ]
    }
   ],
   "source": [
    "np.random.seed(90)\n",
    "\n",
    "c = np.random.randint(9, size = [4,5])\n",
    "print(c)\n",
    "\n"
   ]
  },
  {
   "cell_type": "code",
   "execution_count": null,
   "metadata": {
    "colab": {
     "base_uri": "https://localhost:8080/"
    },
    "id": "vT6CQjbMIX55",
    "outputId": "c5ca1a27-9eb6-4c41-90ba-2a33cc347315"
   },
   "outputs": [
    {
     "name": "stdout",
     "output_type": "stream",
     "text": [
      "[[2 4]\n",
      " [9 5]\n",
      " [8 7]]\n",
      "[2 4 9 5 8 7]\n"
     ]
    }
   ],
   "source": [
    "c = np.array([[2,4],[9,5], [8, 7]])\n",
    "\n",
    "d = c.flatten()\n",
    "\n",
    "print(c)\n",
    "print(d)"
   ]
  },
  {
   "cell_type": "code",
   "execution_count": null,
   "metadata": {
    "colab": {
     "base_uri": "https://localhost:8080/"
    },
    "id": "ULW_lnD_Kf40",
    "outputId": "4e03ca41-6488-4cec-dbaf-cfd869c7727e"
   },
   "outputs": [
    {
     "name": "stdout",
     "output_type": "stream",
     "text": [
      "[[2 4]\n",
      " [9 5]\n",
      " [8 7]]\n",
      "(3, 2)\n"
     ]
    }
   ],
   "source": [
    "c = np.array([[2,4],[9,5], [8, 7]])\n",
    "\n",
    "print(c)\n",
    "\n",
    "print(c.shape)"
   ]
  },
  {
   "cell_type": "code",
   "execution_count": null,
   "metadata": {
    "colab": {
     "base_uri": "https://localhost:8080/"
    },
    "id": "hXFTgjrqKyMv",
    "outputId": "6c694f6f-1d5f-460b-fc2f-b9f8182b9a92"
   },
   "outputs": [
    {
     "name": "stdout",
     "output_type": "stream",
     "text": [
      "[[2 4 9]\n",
      " [5 8 7]]\n",
      "(2, 3)\n"
     ]
    }
   ],
   "source": [
    "c = np.array([[2,4],[9,5], [8, 7]])\n",
    "\n",
    "c = np.reshape(c, (2,3))\n",
    "print(c)\n",
    "\n",
    "print(c.shape)"
   ]
  },
  {
   "cell_type": "code",
   "execution_count": null,
   "metadata": {
    "colab": {
     "base_uri": "https://localhost:8080/"
    },
    "id": "0mTVhyxgL4Js",
    "outputId": "d0097709-8040-4bd2-af7e-5cf05c4aca6f"
   },
   "outputs": [
    {
     "name": "stdout",
     "output_type": "stream",
     "text": [
      "[[8 8 8 8]\n",
      " [8 8 8 8]\n",
      " [8 8 8 8]\n",
      " [8 8 8 8]\n",
      " [8 8 8 8]]\n",
      "(5, 4)\n"
     ]
    }
   ],
   "source": [
    "g = np.full((4,5), 8)\n",
    "\n",
    "\n",
    "g = g.reshape(5,4)\n",
    "\n",
    "print(g)\n",
    "\n",
    "print(g.shape)\n",
    "\n"
   ]
  },
  {
   "cell_type": "code",
   "execution_count": 26,
   "metadata": {
    "colab": {
     "base_uri": "https://localhost:8080/"
    },
    "id": "NLriiSC0Mrl3",
    "outputId": "efa8fd92-1c5a-4656-a083-7156e7537015"
   },
   "outputs": [
    {
     "name": "stdout",
     "output_type": "stream",
     "text": [
      "[4 5 8 9]\n",
      "[1 2 3 4]\n",
      "---------------\n",
      "[ 5  7 11 13]\n",
      "[3 3 5 5]\n",
      "[ 4 10 24 36]\n",
      "[4.         2.5        2.66666667 2.25      ]\n",
      " X = 74\n"
     ]
    }
   ],
   "source": [
    "a = np.array([4,5,8,9])\n",
    "\n",
    "b = np.array([1,2,3,4])\n",
    "\n",
    "print(a)\n",
    "print(b)\n",
    "\n",
    "print(\"---------------\")\n",
    "print(a+b)\n",
    "print(a-b)\n",
    "print(a*b)\n",
    "print(a/b)\n",
    "\n",
    "\n",
    "x = np.dot(a,b)\n",
    "\n",
    "print(f\" X = {x}\")\n",
    "\n"
   ]
  },
  {
   "cell_type": "code",
   "execution_count": null,
   "metadata": {
    "colab": {
     "base_uri": "https://localhost:8080/"
    },
    "id": "BHrjp9OENp-k",
    "outputId": "bf1503bb-909d-446c-81ad-8e193cf11678"
   },
   "outputs": [
    {
     "name": "stdout",
     "output_type": "stream",
     "text": [
      "[[2 4]\n",
      " [9 5]\n",
      " [8 7]]\n",
      "[[5 6 2]\n",
      " [7 7 7]]\n",
      "[[38 40 32]\n",
      " [80 89 53]\n",
      " [89 97 65]]\n",
      "[[38 40 32]\n",
      " [80 89 53]\n",
      " [89 97 65]]\n"
     ]
    }
   ],
   "source": [
    "c = np.array([[2,4], [9,5], [8, 7]])\n",
    "\n",
    "d = np.array([[5,6], [2,7], [7,7]])\n",
    "d = d.reshape(2,3)\n",
    "\n",
    "print(c)\n",
    "print(d)\n",
    "\n",
    "x = np.dot(c,d)\n",
    "\n",
    "print(x)\n",
    "\n",
    "y = np.matmul(c,d)\n",
    "\n",
    "print(y)\n",
    "\n",
    "\n"
   ]
  },
  {
   "cell_type": "code",
   "execution_count": null,
   "metadata": {
    "colab": {
     "base_uri": "https://localhost:8080/"
    },
    "id": "DL1N8gfiTODO",
    "outputId": "e0dde13e-b80b-4b75-9ee8-510d7f5588a1"
   },
   "outputs": [
    {
     "name": "stdout",
     "output_type": "stream",
     "text": [
      "[[2 4]\n",
      " [9 5]\n",
      " [8 7]]\n",
      "[[2 9 8]\n",
      " [4 5 7]]\n",
      "[[2 9 8]\n",
      " [4 5 7]]\n"
     ]
    }
   ],
   "source": [
    "c = np.array([[2,4], [9,5], [8, 7]])\n",
    "\n",
    "print(c)\n",
    "\n",
    "print(c.T)\n",
    "\n",
    "c = np.transpose(c)\n",
    "\n",
    "print(c)"
   ]
  },
  {
   "cell_type": "code",
   "execution_count": null,
   "metadata": {
    "colab": {
     "base_uri": "https://localhost:8080/"
    },
    "id": "71gcXFRFVm9o",
    "outputId": "e3044a04-c52b-4e1e-fe6c-33959c440bd7"
   },
   "outputs": [
    {
     "name": "stdout",
     "output_type": "stream",
     "text": [
      "[[-0.19230769  0.15384615]\n",
      " [ 0.34615385 -0.07692308]]\n",
      "[[ 1.00000000e+00  0.00000000e+00]\n",
      " [-1.11022302e-16  1.00000000e+00]]\n"
     ]
    }
   ],
   "source": [
    "c = np.array([[2,4], [9,5]])\n",
    "\n",
    "i = np.linalg.inv(c)\n",
    "\n",
    "print(i)\n",
    "\n",
    "\n",
    "m = np.matmul(c,i)\n",
    "\n",
    "print(m)"
   ]
  },
  {
   "cell_type": "code",
   "execution_count": null,
   "metadata": {
    "colab": {
     "base_uri": "https://localhost:8080/"
    },
    "id": "GmwTklwWWTbw",
    "outputId": "00a2ced1-a342-4937-c387-db56f19af1af"
   },
   "outputs": [
    {
     "name": "stdout",
     "output_type": "stream",
     "text": [
      "-26.000000000000004\n"
     ]
    }
   ],
   "source": [
    "det = np.linalg.det(c)\n",
    "\n",
    "print(det)\n"
   ]
  },
  {
   "cell_type": "code",
   "execution_count": null,
   "metadata": {
    "colab": {
     "base_uri": "https://localhost:8080/"
    },
    "id": "nm0E1jyzYkrM",
    "outputId": "7e3cfb28-0dab-4b97-c1cb-be7d117a88c8"
   },
   "outputs": [
    {
     "name": "stdout",
     "output_type": "stream",
     "text": [
      "Solution [x, y, z]: [ 1.33561644  0.69178082 -0.25342466]\n"
     ]
    }
   ],
   "source": [
    "import numpy as np\n",
    "\n",
    "# Coefficient matrix A\n",
    "A = np.array([\n",
    "    [2, 3, -1],\n",
    "    [-1, 7, 2],\n",
    "    [4, -3, 5]\n",
    "])\n",
    "\n",
    "# Constant vector B\n",
    "B = np.array([5, 3, 2])\n",
    "\n",
    "# Solve for X\n",
    "X = np.linalg.solve(A, B)\n",
    "\n",
    "print(\"Solution [x, y, z]:\", X)\n"
   ]
  }
 ],
 "metadata": {
  "colab": {
   "provenance": []
  },
  "kernelspec": {
   "display_name": "Python 3 (ipykernel)",
   "language": "python",
   "name": "python3"
  },
  "language_info": {
   "codemirror_mode": {
    "name": "ipython",
    "version": 3
   },
   "file_extension": ".py",
   "mimetype": "text/x-python",
   "name": "python",
   "nbconvert_exporter": "python",
   "pygments_lexer": "ipython3",
   "version": "3.12.5"
  }
 },
 "nbformat": 4,
 "nbformat_minor": 4
}
