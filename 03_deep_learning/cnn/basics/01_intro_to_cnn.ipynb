{
  "nbformat": 4,
  "nbformat_minor": 0,
  "metadata": {
    "colab": {
      "provenance": []
    },
    "kernelspec": {
      "name": "python3",
      "display_name": "Python 3"
    },
    "language_info": {
      "name": "python"
    }
  },
  "cells": [
    {
      "cell_type": "markdown",
      "source": [
        "# **1. Motivation**\n",
        "\n",
        "*   Why do we need CNNs?\n",
        "*   Limitations of Fully Connected Networks for images:\n",
        "\n",
        "\n",
        "            *   Too many parameters (e.g., 256×256×3 image = huge input vector)\n",
        "            *   Loss of spatial structure\n",
        "\n",
        "\n",
        "*   Real-world applications:\n",
        "\n",
        "\n",
        "\n",
        "            *   Image classification\n",
        "            *   Object detection\n",
        "            *   Facial recognition\n",
        "            *   Medical imaging\n",
        "\n",
        "\n",
        "\n",
        "\n",
        "\n",
        "\n"
      ],
      "metadata": {
        "id": "11cd-dqRALZ_"
      }
    },
    {
      "cell_type": "markdown",
      "source": [
        "# **2. CNN vs Traditional ML**\n",
        "\n",
        "| Traditional ML                       | CNN                              |\n",
        "| ------------------------------------ | -------------------------------- |\n",
        "| Requires manual feature extraction   | Learns features automatically    |\n",
        "| Works on flattened data              | Works on spatial data (images)   |\n",
        "| Struggles with high-dimensional data | Handles large images efficiently |\n"
      ],
      "metadata": {
        "id": "VXQCwlYNBdLP"
      }
    },
    {
      "cell_type": "markdown",
      "source": [
        "# **3. The Big Idea**\n",
        "\n",
        "\n",
        "\n",
        "*   Local receptive fields → neurons see only part of the image\n",
        "\n",
        "*   Parameter sharing → same filter detects the same feature anywhere\n",
        "*   Translation invariance → small movements in the image don’t change prediction"
      ],
      "metadata": {
        "id": "MIu2lMl_BtnJ"
      }
    },
    {
      "cell_type": "markdown",
      "source": [
        "# **4. CNN Building Blocks (High-Level)**\n",
        "\n",
        "\n",
        "\n",
        "*   Convolution Layer – Feature extraction\n",
        "\n",
        "*   Pooling Layer – Downsampling\n",
        "*   Fully Connected Layer – Classification\n",
        "\n",
        "\n",
        "*   Activation Functions – Non-linearity\n",
        "\n",
        "**Include a block diagram like:**\n",
        "\n",
        "\n",
        "\n",
        "\n",
        "\n",
        "\n",
        "\n",
        "\n",
        "    Image → [Convolution + ReLU] → [Pooling] → [Convolution + ReLU] → [Pooling] → [Flatten] → [Fully Connected Layer] → Output"
      ],
      "metadata": {
        "id": "CqsfSGevCBxF"
      }
    },
    {
      "cell_type": "markdown",
      "source": [
        "# **Simple CNN in PyTorch**"
      ],
      "metadata": {
        "id": "8ORiVJm1DI3k"
      }
    },
    {
      "cell_type": "code",
      "source": [
        "import torch\n",
        "import torch.nn as nn\n",
        "\n",
        "class SimpleCNN(nn.Module):\n",
        "    def __init__(self):\n",
        "        super(SimpleCNN, self).__init__()\n",
        "        self.conv1 = nn.Conv2d(1, 8, 3, padding=1) # grayscale image\n",
        "        self.pool = nn.MaxPool2d(2, 2)\n",
        "        self.fc1 = nn.Linear(8*14*14, 10) # MNIST 28x28 input\n",
        "\n",
        "    def forward(self, x):\n",
        "        x = self.pool(torch.relu(self.conv1(x)))\n",
        "        x = x.view(-1, 8*14*14)\n",
        "        x = self.fc1(x)\n",
        "        return x\n",
        "\n",
        "model = SimpleCNN()\n",
        "print(model)\n"
      ],
      "metadata": {
        "colab": {
          "base_uri": "https://localhost:8080/"
        },
        "id": "U_7vrFNRDDjY",
        "outputId": "f7714c6a-fd23-430a-912d-51d328e6bbdd"
      },
      "execution_count": 1,
      "outputs": [
        {
          "output_type": "stream",
          "name": "stdout",
          "text": [
            "SimpleCNN(\n",
            "  (conv1): Conv2d(1, 8, kernel_size=(3, 3), stride=(1, 1), padding=(1, 1))\n",
            "  (pool): MaxPool2d(kernel_size=2, stride=2, padding=0, dilation=1, ceil_mode=False)\n",
            "  (fc1): Linear(in_features=1568, out_features=10, bias=True)\n",
            ")\n"
          ]
        }
      ]
    }
  ]
}