{
 "cells": [
  {
   "cell_type": "markdown",
   "metadata": {
    "id": "ZA0-GBM-ng7G"
   },
   "source": [
    "\n",
    "# **Optimizers adjust weights to minimize loss.**\n",
    "\n",
    "Impact:\n",
    "\n",
    "\n",
    "\n",
    "*   Speed of convergence\n",
    "*   Stability\n",
    "*   Final accuracy"
   ]
  },
  {
   "cell_type": "markdown",
   "metadata": {
    "id": "fgya48qDn98o"
   },
   "source": [
    "**The Optimization Problem**\n",
    "\n",
    "You're solving:\n",
    "\n",
    "min\n",
    "⁡\n",
    "𝜃\n",
    "𝐿\n",
    "(\n",
    "𝜃\n",
    ")\n",
    "\n",
    "\n",
    "\n",
    "Where:\n",
    "\n",
    "\n",
    "*   𝜃: weights\n",
    "*   𝐿: loss function"
   ]
  },
  {
   "cell_type": "markdown",
   "metadata": {},
   "source": [
    " # **Gradient Descent Family**\n",
    "\n",
    " | Optimizer         | Key Idea                    | Pros     | Cons                       |\n",
    "| ----------------- | --------------------------- | -------- | -------------------------- |\n",
    "| **SGD**           | Update using one data point | Simple   | Noisy, slow convergence    |\n",
    "| **Batch GD**      | Update using entire dataset | Stable   | Memory expensive           |\n",
    "| **Mini-batch GD** | Small subsets               | Balanced | Requires tuning batch size |\n",
    "\n",
    "\n",
    "# **Advanced Optimizers**\n",
    "\n",
    "| Optimizer          | Update Rule Highlights                  | Benefits                     |\n",
    "| ------------------ | --------------------------------------- | ---------------------------- |\n",
    "| **Momentum**       | Adds a velocity term to smooth updates  | Faster convergence           |\n",
    "| **NAG (Nesterov)** | Looks ahead before updating             | More accurate gradients      |\n",
    "| **Adagrad**        | Adapts learning rate for each parameter | Good for sparse data         |\n",
    "| **RMSprop**        | Moving average of squared gradients     | Works well in practice       |\n",
    "| **Adam**           | Combines Momentum + RMSprop             | Most popular, default choice |\n",
    "\n"
   ]
  },
  {
   "cell_type": "code",
   "execution_count": null,
   "metadata": {
    "id": "naj_7gxmnaEC"
   },
   "outputs": [],
   "source": [
    "import torch\n",
    "\n",
    "# Define your model here (replace with your actual model)\n",
    "# Example:\n",
    "model = torch.nn.Linear(10, 1)\n",
    "\n",
    "optimizer = torch.optim.Adam(model.parameters(), lr=0.001)"
   ]
  }
 ],
 "metadata": {
  "colab": {
   "provenance": []
  },
  "kernelspec": {
   "display_name": "Python 3 (ipykernel)",
   "language": "python",
   "name": "python3"
  },
  "language_info": {
   "codemirror_mode": {
    "name": "ipython",
    "version": 3
   },
   "file_extension": ".py",
   "mimetype": "text/x-python",
   "name": "python",
   "nbconvert_exporter": "python",
   "pygments_lexer": "ipython3",
   "version": "3.12.5"
  }
 },
 "nbformat": 4,
 "nbformat_minor": 4
}
