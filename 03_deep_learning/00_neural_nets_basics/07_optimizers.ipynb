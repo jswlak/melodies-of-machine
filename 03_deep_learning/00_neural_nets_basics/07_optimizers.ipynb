{
  "nbformat": 4,
  "nbformat_minor": 0,
  "metadata": {
    "colab": {
      "provenance": []
    },
    "kernelspec": {
      "name": "python3",
      "display_name": "Python 3"
    },
    "language_info": {
      "name": "python"
    }
  },
  "cells": [
    {
      "cell_type": "markdown",
      "source": [
        "\n",
        "Optimizers adjust weights to minimize loss.\n",
        "\n",
        "Impact:\n",
        "\n",
        "\n",
        "\n",
        "*   Speed of convergence\n",
        "*   Stability\n",
        "*   Final accuracy"
      ],
      "metadata": {
        "id": "ZA0-GBM-ng7G"
      }
    },
    {
      "cell_type": "markdown",
      "source": [
        "The Optimization Problem\n",
        "\n",
        "You're solving:\n",
        "\n",
        "min\n",
        "⁡\n",
        "𝜃\n",
        "𝐿\n",
        "(\n",
        "𝜃\n",
        ")\n",
        "\n",
        "\n",
        "\n",
        "Where:\n",
        "\n",
        "\n",
        "*   𝜃: weights\n",
        "*   𝐿: loss function"
      ],
      "metadata": {
        "id": "fgya48qDn98o"
      }
    },
    {
      "cell_type": "code",
      "execution_count": 4,
      "metadata": {
        "id": "naj_7gxmnaEC"
      },
      "outputs": [],
      "source": [
        "import torch\n",
        "\n",
        "# Define your model here (replace with your actual model)\n",
        "# Example:\n",
        "model = torch.nn.Linear(10, 1)\n",
        "\n",
        "optimizer = torch.optim.Adam(model.parameters(), lr=0.001)"
      ]
    }
  ]
}