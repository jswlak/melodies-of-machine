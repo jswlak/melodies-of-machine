{
  "nbformat": 4,
  "nbformat_minor": 0,
  "metadata": {
    "colab": {
      "provenance": []
    },
    "kernelspec": {
      "name": "python3",
      "display_name": "Python 3"
    },
    "language_info": {
      "name": "python"
    }
  },
  "cells": [
    {
      "cell_type": "markdown",
      "source": [
        "# **What is Backpropagation?**\n",
        "\n",
        "Backpropagation is the algorithm used to:\n",
        "\n",
        "\n",
        "*   Compute gradients of the loss with respect to model parameters (W and b)\n",
        "*   Update those parameters using gradient descent\n",
        "\n",
        "It works by applying chain rule in reverse through the computational graph (hence “back”-propagation)."
      ],
      "metadata": {
        "id": "RnZ0C7TtOlos"
      }
    },
    {
      "cell_type": "markdown",
      "source": [
        "Goal: Manually implement backpropagation for a simple 2-layer neural network, and understand how gradients are calculated and used to update weights.\n",
        "\n"
      ],
      "metadata": {
        "id": "UM72rLGJ48g7"
      }
    },
    {
      "cell_type": "markdown",
      "source": [
        "# **Architecture to Implement**\n",
        "\n",
        "We’ll build a 2-layer neural network from scratch (no PyTorch/TensorFlow):\n",
        "\n",
        "**Architecture:**\n",
        "\n",
        "Input (X) → [W1, b1] → Hidden Layer (a1) → [W2, b2] → Output (y_pred)"
      ],
      "metadata": {
        "id": "kXaUTixc5ENS"
      }
    },
    {
      "cell_type": "markdown",
      "source": [
        "# **Imports and Dataset**"
      ],
      "metadata": {
        "id": "gc_8FxkQ54Lb"
      }
    },
    {
      "cell_type": "code",
      "source": [
        "import numpy as np\n",
        "import matplotlib.pyplot as plt\n",
        "\n"
      ],
      "metadata": {
        "id": "sEHi4Gx84-DN"
      },
      "execution_count": 1,
      "outputs": []
    },
    {
      "cell_type": "markdown",
      "source": [
        "**Generate synthetic data:**"
      ],
      "metadata": {
        "id": "Rx-mezpP6Efn"
      }
    },
    {
      "cell_type": "code",
      "source": [
        "# Binary classification (label: 0 or 1)\n",
        "np.random.seed(0)\n",
        "X = np.random.randn(100, 2)\n",
        "y = (X[:, 0] * X[:, 1] > 0).astype(int).reshape(-1, 1)  # XOR-like\n"
      ],
      "metadata": {
        "id": "Jpm1i9wP6HeP"
      },
      "execution_count": 2,
      "outputs": []
    },
    {
      "cell_type": "markdown",
      "source": [
        "# **Network Hyperparameters**"
      ],
      "metadata": {
        "id": "KasMxEJ66UbT"
      }
    },
    {
      "cell_type": "code",
      "source": [
        "input_size = 2      # 2 features\n",
        "hidden_size = 4     # 4 hidden units\n",
        "output_size = 1     # Binary output\n",
        "learning_rate = 0.1\n"
      ],
      "metadata": {
        "id": "7YFd-7m36dji"
      },
      "execution_count": 3,
      "outputs": []
    },
    {
      "cell_type": "markdown",
      "source": [
        "# **Weight Initialization**"
      ],
      "metadata": {
        "id": "iU7CDVc46hvd"
      }
    },
    {
      "cell_type": "code",
      "source": [
        "W1 = np.random.randn(input_size, hidden_size)\n",
        "b1 = np.zeros((1, hidden_size))\n",
        "W2 = np.random.randn(hidden_size, output_size)\n",
        "b2 = np.zeros((1, output_size))\n"
      ],
      "metadata": {
        "id": "tjO6JMD26i1D"
      },
      "execution_count": 4,
      "outputs": []
    },
    {
      "cell_type": "markdown",
      "source": [
        "# **Activation Functions**"
      ],
      "metadata": {
        "id": "6RI3rIea6rHG"
      }
    },
    {
      "cell_type": "code",
      "source": [
        "def sigmoid(x):\n",
        "    return 1 / (1 + np.exp(-x))\n",
        "\n",
        "def sigmoid_derivative(x):\n",
        "    return sigmoid(x) * (1 - sigmoid(x))\n"
      ],
      "metadata": {
        "id": "ZTTHHosK61Hf"
      },
      "execution_count": 5,
      "outputs": []
    },
    {
      "cell_type": "markdown",
      "source": [
        "# **Forward Pass**"
      ],
      "metadata": {
        "id": "Pu9eFLyM68gF"
      }
    },
    {
      "cell_type": "code",
      "source": [
        "# Forward pass\n",
        "z1 = X @ W1 + b1           # (100, 4)\n",
        "a1 = sigmoid(z1)           # (100, 4)\n",
        "\n",
        "z2 = a1 @ W2 + b2          # (100, 1)\n",
        "y_pred = sigmoid(z2)       # (100, 1)\n"
      ],
      "metadata": {
        "id": "J7hi44TT6-EE"
      },
      "execution_count": 6,
      "outputs": []
    },
    {
      "cell_type": "markdown",
      "source": [
        "# **Loss Function (Binary Cross-Entropy)**"
      ],
      "metadata": {
        "id": "jBFeQGJj7H0Q"
      }
    },
    {
      "cell_type": "code",
      "source": [
        "def binary_cross_entropy(y, y_pred):\n",
        "    return -np.mean(y * np.log(y_pred + 1e-8) + (1 - y) * np.log(1 - y_pred + 1e-8))\n",
        "\n"
      ],
      "metadata": {
        "id": "iVy1DH6c7HXL"
      },
      "execution_count": 8,
      "outputs": []
    },
    {
      "cell_type": "markdown",
      "source": [
        "# **Backward Pass (Backpropagation)**\n",
        "**Derivatives:**"
      ],
      "metadata": {
        "id": "hdzhtghN7Wql"
      }
    },
    {
      "cell_type": "code",
      "source": [
        "# dLoss/dz2\n",
        "dz2 = y_pred - y           # (100, 1)\n",
        "\n",
        "# Gradients for W2 and b2\n",
        "dW2 = a1.T @ dz2           # (4, 1)\n",
        "db2 = np.sum(dz2, axis=0, keepdims=True)\n",
        "\n",
        "# Backprop to hidden layer\n",
        "da1 = dz2 @ W2.T           # (100, 4)\n",
        "dz1 = da1 * sigmoid_derivative(z1)\n",
        "\n",
        "# Gradients for W1 and b1\n",
        "dW1 = X.T @ dz1            # (2, 4)\n",
        "db1 = np.sum(dz1, axis=0, keepdims=True)\n",
        "\n"
      ],
      "metadata": {
        "id": "mHpnp2QD7fK4"
      },
      "execution_count": 9,
      "outputs": []
    },
    {
      "cell_type": "markdown",
      "source": [
        "# **Parameter Update**"
      ],
      "metadata": {
        "id": "t5h1zVHH7vZz"
      }
    },
    {
      "cell_type": "code",
      "source": [
        "W2 -= learning_rate * dW2\n",
        "b2 -= learning_rate * db2\n",
        "\n",
        "W1 -= learning_rate * dW1\n",
        "b1 -= learning_rate * db1\n",
        "\n"
      ],
      "metadata": {
        "id": "DC-fm06m7xUt"
      },
      "execution_count": 10,
      "outputs": []
    },
    {
      "cell_type": "markdown",
      "source": [
        "# **Training Loop**"
      ],
      "metadata": {
        "id": "VxuJQ_ER72l6"
      }
    },
    {
      "cell_type": "code",
      "source": [
        "losses = []\n",
        "\n",
        "for epoch in range(1000):\n",
        "    # Forward pass\n",
        "    z1 = X @ W1 + b1\n",
        "    a1 = sigmoid(z1)\n",
        "    z2 = a1 @ W2 + b2\n",
        "    y_pred = sigmoid(z2)\n",
        "\n",
        "    # Loss\n",
        "    loss = binary_cross_entropy(y, y_pred)\n",
        "    losses.append(loss)\n",
        "\n",
        "    # Backward pass\n",
        "    dz2 = y_pred - y\n",
        "    dW2 = a1.T @ dz2\n",
        "    db2 = np.sum(dz2, axis=0, keepdims=True)\n",
        "    da1 = dz2 @ W2.T\n",
        "    dz1 = da1 * sigmoid_derivative(z1)\n",
        "    dW1 = X.T @ dz1\n",
        "    db1 = np.sum(dz1, axis=0, keepdims=True)\n",
        "\n",
        "    # Update\n",
        "    W2 -= learning_rate * dW2\n",
        "    b2 -= learning_rate * db2\n",
        "    W1 -= learning_rate * dW1\n",
        "    b1 -= learning_rate * db1\n",
        "\n",
        "    if epoch % 100 == 0:\n",
        "        print(f\"Epoch {epoch}, Loss: {loss:.4f}\")\n"
      ],
      "metadata": {
        "colab": {
          "base_uri": "https://localhost:8080/"
        },
        "id": "b5VVF21h74VN",
        "outputId": "2be5ea73-4626-4060-8f36-890b9ddab3d3"
      },
      "execution_count": 20,
      "outputs": [
        {
          "output_type": "stream",
          "name": "stdout",
          "text": [
            "Epoch 0, Loss: 0.0378\n",
            "Epoch 100, Loss: 0.0318\n",
            "Epoch 200, Loss: 0.0552\n",
            "Epoch 300, Loss: 0.0451\n",
            "Epoch 400, Loss: 0.0331\n",
            "Epoch 500, Loss: 0.0221\n",
            "Epoch 600, Loss: 0.1983\n",
            "Epoch 700, Loss: 0.0950\n",
            "Epoch 800, Loss: 0.0708\n",
            "Epoch 900, Loss: 0.0586\n"
          ]
        }
      ]
    },
    {
      "cell_type": "markdown",
      "source": [
        "# **Visualize Loss**"
      ],
      "metadata": {
        "id": "BlAFTre48EJV"
      }
    },
    {
      "cell_type": "code",
      "source": [
        "plt.plot(losses)\n",
        "plt.title(\"Training Loss\")\n",
        "plt.xlabel(\"Epochs\")\n",
        "plt.ylabel(\"Loss\")\n",
        "plt.show()\n"
      ],
      "metadata": {
        "colab": {
          "base_uri": "https://localhost:8080/",
          "height": 472
        },
        "id": "me2tKUXn8GQ-",
        "outputId": "f0da6b13-32bd-4098-e7ab-6a22065d3b7b"
      },
      "execution_count": 21,
      "outputs": [
        {
          "output_type": "display_data",
          "data": {
            "text/plain": [
              "<Figure size 640x480 with 1 Axes>"
            ],
            "image/png": "[encoded data removed]"
          },
          "metadata": {}
        }
      ]
    }
  ]
}