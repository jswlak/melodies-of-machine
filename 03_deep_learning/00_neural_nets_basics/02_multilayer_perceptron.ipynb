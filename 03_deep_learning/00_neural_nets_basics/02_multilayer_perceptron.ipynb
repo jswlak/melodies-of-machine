{
  "nbformat": 4,
  "nbformat_minor": 0,
  "metadata": {
    "colab": {
      "provenance": []
    },
    "kernelspec": {
      "name": "python3",
      "display_name": "Python 3"
    },
    "language_info": {
      "name": "python"
    }
  },
  "cells": [
    {
      "cell_type": "markdown",
      "source": [
        "# **1. What is a Multilayer Perceptron?**\n",
        "\n",
        "An MLP is a neural network with one or more hidden layers between input and output.\n",
        "\n",
        "Structure:\n",
        "\n",
        "\n",
        "Input → Hidden Layer (ReLU/Sigmoid) → Output Layer (Sigmoid for binary)"
      ],
      "metadata": {
        "id": "BQWK1WSlLgBV"
      }
    },
    {
      "cell_type": "markdown",
      "source": [
        "# **MLP with One Hidden**"
      ],
      "metadata": {
        "id": "exA3gnTxL7pk"
      }
    },
    {
      "cell_type": "code",
      "execution_count": 1,
      "metadata": {
        "id": "9hyf_MgrLQRI"
      },
      "outputs": [],
      "source": [
        "import numpy as np\n",
        "\n",
        "# Input\n",
        "X = np.array([0.5, 0.3, 0.2])\n",
        "\n",
        "# Hidden layer (3 inputs → 2 hidden neurons)\n",
        "W1 = np.array([[0.1, 0.4, 0.3],\n",
        "               [0.6, 0.2, 0.8]])\n",
        "b1 = np.array([0.1, 0.2])\n",
        "\n",
        "# Output layer (2 → 1)\n",
        "W2 = np.array([[0.5, 0.7]])\n",
        "b2 = np.array([0.3])\n"
      ]
    },
    {
      "cell_type": "markdown",
      "source": [
        "**Activation functions:**"
      ],
      "metadata": {
        "id": "mSqNzPXDMXJH"
      }
    },
    {
      "cell_type": "code",
      "source": [
        "def relu(z):\n",
        "    return np.maximum(0, z)\n",
        "\n",
        "def sigmoid(z):\n",
        "    return 1 / (1 + np.exp(-z))\n"
      ],
      "metadata": {
        "id": "Ktc0U-G-MYQE"
      },
      "execution_count": 2,
      "outputs": []
    },
    {
      "cell_type": "markdown",
      "source": [
        "# **Forward Pass:**"
      ],
      "metadata": {
        "id": "tUqJgXbxMepR"
      }
    },
    {
      "cell_type": "code",
      "source": [
        "# Hidden layer\n",
        "Z1 = np.dot(W1, X) + b1\n",
        "A1 = relu(Z1)\n",
        "\n",
        "# Output layer\n",
        "Z2 = np.dot(W2, A1) + b2\n",
        "A2 = sigmoid(Z2)\n",
        "\n",
        "print(\"Output of MLP:\", A2[0])\n"
      ],
      "metadata": {
        "colab": {
          "base_uri": "https://localhost:8080/"
        },
        "id": "lep2tjuDMh5u",
        "outputId": "8fae179a-5ef6-4887-9c72-cec361b8c0e1"
      },
      "execution_count": 3,
      "outputs": [
        {
          "output_type": "stream",
          "name": "stdout",
          "text": [
            "Output of MLP: 0.7249201317135311\n"
          ]
        }
      ]
    },
    {
      "cell_type": "markdown",
      "source": [
        "# **Wrap it in a Class**"
      ],
      "metadata": {
        "id": "NUoJJPj_Mmyp"
      }
    },
    {
      "cell_type": "code",
      "source": [
        "class MLP:\n",
        "    def __init__(self, W1, b1, W2, b2):\n",
        "        self.W1 = W1\n",
        "        self.b1 = b1\n",
        "        self.W2 = W2\n",
        "        self.b2 = b2\n",
        "\n",
        "    def relu(self, z):\n",
        "        return np.maximum(0, z)\n",
        "\n",
        "    def sigmoid(self, z):\n",
        "        return 1 / (1 + np.exp(-z))\n",
        "\n",
        "    def forward(self, X):\n",
        "        Z1 = np.dot(self.W1, X) + self.b1\n",
        "        A1 = self.relu(Z1)\n",
        "        Z2 = np.dot(self.W2, A1) + self.b2\n",
        "        A2 = self.sigmoid(Z2)\n",
        "        return A2\n",
        "\n",
        "mlp = MLP(W1, b1, W2, b2)\n",
        "print(\"MLP Output:\", mlp.forward(X)[0])\n"
      ],
      "metadata": {
        "colab": {
          "base_uri": "https://localhost:8080/"
        },
        "id": "4HsqZW5bMn2g",
        "outputId": "c3096684-66c5-4a6d-ec48-dbf9c2bcee8f"
      },
      "execution_count": 4,
      "outputs": [
        {
          "output_type": "stream",
          "name": "stdout",
          "text": [
            "MLP Output: 0.7249201317135311\n"
          ]
        }
      ]
    },
    {
      "cell_type": "markdown",
      "source": [
        "# **Summary:**\n",
        "\n",
        "\n",
        "\n",
        "*   **Implemented a 2-layer neural network (MLP).**\n",
        "*   **Learned how forward pass works in deep learning.**\n",
        "*   **Used ReLU and Sigmoid as activation functions.**"
      ],
      "metadata": {
        "id": "TlV54lAyMzRr"
      }
    }
  ]
}