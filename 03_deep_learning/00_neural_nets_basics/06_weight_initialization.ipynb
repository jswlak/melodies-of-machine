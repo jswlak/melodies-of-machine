{
  "nbformat": 4,
  "nbformat_minor": 0,
  "metadata": {
    "colab": {
      "provenance": []
    },
    "kernelspec": {
      "name": "python3",
      "display_name": "Python 3"
    },
    "language_info": {
      "name": "python"
    }
  },
  "cells": [
    {
      "cell_type": "markdown",
      "source": [
        "# **Why Weight Initialization Matters**\n",
        "\n",
        "\n",
        "*   Poor initialization → slow training, vanishing/exploding gradients.\n",
        "*   Good initialization → faster convergence, better accuracy.\n",
        "\n",
        "# **What Happens with Zero Initialization?**\n",
        "\n",
        "\n",
        "\n",
        "*   If all weights = 0 → all neurons learn the same thing (no symmetry breaking).\n",
        "\n",
        "*   Demonstrate this with a simple MLP and training logs."
      ],
      "metadata": {
        "id": "2dCPZ2Gxl9Yv"
      }
    },
    {
      "cell_type": "markdown",
      "source": [
        "# **Types of Initialization Techniques**\n",
        "\n",
        "| Initialization        | Formula / Use Case                                                                                                 | Notes                    |\n",
        "| --------------------- | ------------------------------------------------------------------------------------------------------------------ | ------------------------ |\n",
        "| **Random Uniform**    | $\\mathcal{U}(-a, a)$                                                                                               | Basic, not optimal       |\n",
        "| **Normal (Gaussian)** | $\\mathcal{N}(0, \\sigma^2)$                                                                                         | Used for experimentation |\n",
        "| **Xavier (Glorot)**   | $\\mathcal{N}(0, \\frac{1}{n_{in}})$ or $\\mathcal{U}(-\\sqrt{6 / (n_{in} + n_{out})}, \\sqrt{6 / (n_{in} + n_{out})})$ | Best for tanh            |\n",
        "| **He Initialization** | $\\mathcal{N}(0, \\frac{2}{n_{in}})$                                                                                 | Best for ReLU, LeakyReLU |\n"
      ],
      "metadata": {
        "id": "Nug04J6dmbgn"
      }
    },
    {
      "cell_type": "markdown",
      "source": [
        "**Python Code Comparison**"
      ],
      "metadata": {
        "id": "07PcZRabmrl4"
      }
    },
    {
      "cell_type": "code",
      "execution_count": 1,
      "metadata": {
        "id": "vlTSm9EVl3t1"
      },
      "outputs": [],
      "source": [
        "import numpy as np\n",
        "\n",
        "# Xavier Initialization\n",
        "def xavier_init(size):\n",
        "    in_dim = size[0]\n",
        "    xavier_stddev = np.sqrt(2.0 / (in_dim + size[1]))\n",
        "    return np.random.randn(*size) * xavier_stddev\n",
        "\n",
        "# He Initialization\n",
        "def he_init(size):\n",
        "    in_dim = size[0]\n",
        "    return np.random.randn(*size) * np.sqrt(2.0 / in_dim)\n"
      ]
    }
  ]
}